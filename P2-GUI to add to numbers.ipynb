{
 "cells": [
  {
   "cell_type": "code",
   "execution_count": 1,
   "metadata": {},
   "outputs": [],
   "source": [
    "from tkinter import * \n",
    "from tkinter import messagebox ##to import messagebox"
   ]
  },
  {
   "cell_type": "code",
   "execution_count": 2,
   "metadata": {},
   "outputs": [],
   "source": [
    "master=Tk()\n",
    "font_format=(\"Helvetica\",17,\"bold italic\") ##formatting the font"
   ]
  },
  {
   "cell_type": "code",
   "execution_count": 3,
   "metadata": {},
   "outputs": [],
   "source": [
    "def add():\n",
    "    try:\n",
    "        x=int(num1.get())\n",
    "        y=int(num2.get())\n",
    "        result=x+y\n",
    "        messagebox.showinfo(\"Solution\",\"The answer is {}\".format(str(result))) ##placeholder{}\n",
    "    except:\n",
    "        messagebox.showerror(\"Error!\",\"The value is invalid\") ##to show error if int is not inputted\n",
    "        "
   ]
  },
  {
   "cell_type": "code",
   "execution_count": 4,
   "metadata": {},
   "outputs": [],
   "source": [
    "label1=Label(master,text=\"Enter number 1:\",font=font_format) ##1st widget, to format font->(font=font_format)\n",
    "label2=Label(master,text=\"Enter number 2:\",font=font_format) ##2nd widget,text->the number\n",
    "num1=Entry(master) ##Entry is the module to enter the number\n",
    "num2=Entry(master)\n",
    "Button1=Button(master,text=\"Add\",padx=40,pady=20,command=add,font=font_format) ##padx and pady to resize the font size\n",
    "Button2=Button(master,text=\"Exit\",padx=40,pady=20,command=master.quit,font=font_format) ##command to give command"
   ]
  },
  {
   "cell_type": "code",
   "execution_count": 5,
   "metadata": {},
   "outputs": [],
   "source": [
    "label1.grid(row=0,column=0) \n",
    "label2.grid(row=1,column=0)\n",
    "num1.grid(row=0,column=1,ipadx=20,ipady=15)\n",
    "num2.grid(row=1,column=1,ipadx=20,ipady=15)\n",
    "Button1.grid(row=2,column=0,columnspan=2)\n",
    "Button2.grid(row=3,column=0,columnspan=2)"
   ]
  },
  {
   "cell_type": "code",
   "execution_count": 6,
   "metadata": {},
   "outputs": [],
   "source": [
    "master.mainloop()"
   ]
  }
 ],
 "metadata": {
  "kernelspec": {
   "display_name": "Python 3",
   "language": "python",
   "name": "python3"
  },
  "language_info": {
   "codemirror_mode": {
    "name": "ipython",
    "version": 3
   },
   "file_extension": ".py",
   "mimetype": "text/x-python",
   "name": "python",
   "nbconvert_exporter": "python",
   "pygments_lexer": "ipython3",
   "version": "3.8.5"
  }
 },
 "nbformat": 4,
 "nbformat_minor": 4
}
